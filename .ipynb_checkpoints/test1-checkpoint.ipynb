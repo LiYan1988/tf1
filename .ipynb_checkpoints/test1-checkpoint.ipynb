{
 "cells": [
  {
   "cell_type": "code",
   "execution_count": 1,
   "metadata": {},
   "outputs": [
    {
     "name": "stdout",
     "output_type": "stream",
     "text": [
      "Successfully downloaded train-images-idx3-ubyte.gz 9912422 bytes.\n",
      "Extracting ./train-images-idx3-ubyte.gz\n",
      "Successfully downloaded train-labels-idx1-ubyte.gz 28881 bytes.\n",
      "Extracting ./train-labels-idx1-ubyte.gz\n",
      "Successfully downloaded t10k-images-idx3-ubyte.gz 1648877 bytes.\n",
      "Extracting ./t10k-images-idx3-ubyte.gz\n",
      "Successfully downloaded t10k-labels-idx1-ubyte.gz 4542 bytes.\n",
      "Extracting ./t10k-labels-idx1-ubyte.gz\n"
     ]
    }
   ],
   "source": [
    "from tensorflow.examples.tutorials.mnist import input_data\n",
    "mnist = input_data.read_data_sets('.', one_hot=True, reshape=False)"
   ]
  },
  {
   "cell_type": "code",
<<<<<<< HEAD
   "execution_count": 12,
   "metadata": {},
||||||| merged common ancestors
   "execution_count": null,
   "metadata": {
    "collapsed": true
   },
=======
   "execution_count": 3,
   "metadata": {
    "collapsed": true
   },
>>>>>>> 22d8c0c79d50e3f223f1e571962eab3e993fde93
   "outputs": [],
   "source": [
    "import tensorflow as tf\n",
<<<<<<< HEAD
    "import numpy as np\n",
    "\n",
    "learning_rate = 0.001\n",
    "training_epochs = 4\n",
    "batch_size = 128\n",
    "display_step = 50\n",
    "\n",
    "n_input = 28*28*1\n",
    "n_classes = 10\n",
    "\n",
    "n_hidden_layer = 256\n",
    "\n",
    "weights = {'hidden_layer': tf.Variable(tf.random_normal([n_input, n_hidden_layer])), \n",
    "           'out': tf.Variable(tf.random_normal([n_hidden_layer, n_classes]))}\n",
    "biases = {'hidden_layer': tf.Variable(tf.random_normal([n_hidden_layer])),\n",
    "         'out': tf.Variable(tf.random_normal([n_classes]))}\n",
    "\n",
    "x = tf.placeholder('float', [None, 28, 28, 1])\n",
    "y = tf.placeholder('float', [None, 10])\n",
    "\n",
    "x_flat = tf.reshape(x, [-1, n_input])\n",
    "keep_prob = tf.placeholder(tf.float32)\n",
    "\n",
    "# \n",
    "layer_1 = tf.matmul(x_flat, weights['hidden_layer']) + biases['hidden_layer']\n",
    "layer_1 = tf.nn.relu(layer_1)\n",
    "layer_1 = tf.nn.dropout(layer_1, keep_prob=keep_prob)\n",
    "\n",
    "logits = tf.matmul(layer_1, weights['out']) + biases['out']\n",
    "\n",
    "cost = tf.reduce_mean(tf.nn.softmax_cross_entropy_with_logits(labels=y, logits=logits))\n",
    "optimizer = tf.train.GradientDescentOptimizer(learning_rate=learning_rate).minimize(cost)\n",
    "\n",
    "save_path = './tf1.ckpt'"
   ]
  },
  {
   "cell_type": "code",
   "execution_count": 14,
   "metadata": {},
   "outputs": [
    {
     "name": "stdout",
     "output_type": "stream",
     "text": [
      "Epoch: 0, batch: 0, cost=168.352752686\n",
      "Epoch: 0, batch: 50, cost=108.197090149\n",
      "Epoch: 0, batch: 100, cost=67.094352722\n",
      "Epoch: 0, batch: 150, cost=73.859741211\n",
      "Epoch: 0, batch: 200, cost=42.124858856\n",
      "Epoch: 0, batch: 250, cost=46.117107391\n",
      "Epoch: 0, batch: 300, cost=43.652870178\n",
      "Epoch: 0, batch: 350, cost=34.662937164\n",
      "Epoch: 0, batch: 400, cost=44.195156097\n",
      "Epoch: 1, batch: 0, cost=34.239707947\n",
      "Epoch: 1, batch: 50, cost=26.021072388\n",
      "Epoch: 1, batch: 100, cost=25.127964020\n",
      "Epoch: 1, batch: 150, cost=28.633354187\n",
      "Epoch: 1, batch: 200, cost=26.705093384\n",
      "Epoch: 1, batch: 250, cost=20.453575134\n",
      "Epoch: 1, batch: 300, cost=19.727069855\n",
      "Epoch: 1, batch: 350, cost=24.509031296\n",
      "Epoch: 1, batch: 400, cost=17.750366211\n",
      "Epoch: 2, batch: 0, cost=20.495540619\n",
      "Epoch: 2, batch: 50, cost=19.630187988\n",
      "Epoch: 2, batch: 100, cost=16.739450455\n",
      "Epoch: 2, batch: 150, cost=20.987621307\n",
      "Epoch: 2, batch: 200, cost=24.568740845\n",
      "Epoch: 2, batch: 250, cost=9.223701477\n",
      "Epoch: 2, batch: 300, cost=14.570009232\n",
      "Epoch: 2, batch: 350, cost=12.655583382\n",
      "Epoch: 2, batch: 400, cost=12.795312881\n",
      "Epoch: 3, batch: 0, cost=16.871356964\n",
      "Epoch: 3, batch: 50, cost=15.755899429\n",
      "Epoch: 3, batch: 100, cost=12.259221077\n",
      "Epoch: 3, batch: 150, cost=15.412399292\n",
      "Epoch: 3, batch: 200, cost=17.532255173\n",
      "Epoch: 3, batch: 250, cost=18.391933441\n",
      "Epoch: 3, batch: 300, cost=12.701969147\n",
      "Epoch: 3, batch: 350, cost=9.043950081\n",
      "Epoch: 3, batch: 400, cost=8.566062927\n",
      "Training is finished!\n"
     ]
    }
   ],
   "source": [
    "init = tf.global_variables_initializer()\n",
||||||| merged common ancestors
=======
    "import numpy as np\n",
>>>>>>> 22d8c0c79d50e3f223f1e571962eab3e993fde93
    "\n",
    "with tf.Session() as sess:\n",
    "    sess.run(init)\n",
    "    \n",
    "    for epoch in range(training_epochs):\n",
    "        n_batches = int(np.ceil(mnist.train.num_examples/batch_size))\n",
    "        \n",
    "        for i in range(n_batches):\n",
    "            batch_x, batch_y = mnist.train.next_batch(batch_size)\n",
    "            sess.run(optimizer, feed_dict={x: batch_x, y: batch_y, keep_prob: 0.5})\n",
    "            \n",
    "            if i % display_step == 0:\n",
    "                c = sess.run(cost, feed_dict={x: batch_x, y: batch_y, keep_prob: 1})\n",
    "                print('Epoch: {}, batch: {}, cost={:.9f}'.format(epoch, i, c))\n",
    "        \n",
    "    tf.train.Saver().save(sess, save_path=save_path)\n",
    "                \n",
    "    print('Training is finished!')"
   ]
  },
  {
   "cell_type": "code",
   "execution_count": 19,
   "metadata": {},
   "outputs": [
    {
     "ename": "ValueError",
     "evalue": "No variables to save",
     "output_type": "error",
     "traceback": [
      "\u001b[0;31m---------------------------------------------------------------------------\u001b[0m",
      "\u001b[0;31mValueError\u001b[0m                                Traceback (most recent call last)",
      "\u001b[0;32m<ipython-input-19-bf33f8dd5648>\u001b[0m in \u001b[0;36m<module>\u001b[0;34m()\u001b[0m\n\u001b[1;32m     35\u001b[0m \u001b[0;34m\u001b[0m\u001b[0m\n\u001b[1;32m     36\u001b[0m \u001b[0;32mwith\u001b[0m \u001b[0mtf\u001b[0m\u001b[0;34m.\u001b[0m\u001b[0mSession\u001b[0m\u001b[0;34m(\u001b[0m\u001b[0;34m)\u001b[0m \u001b[0;32mas\u001b[0m \u001b[0msess\u001b[0m\u001b[0;34m:\u001b[0m\u001b[0;34m\u001b[0m\u001b[0m\n\u001b[0;32m---> 37\u001b[0;31m     \u001b[0mtf\u001b[0m\u001b[0;34m.\u001b[0m\u001b[0mtrain\u001b[0m\u001b[0;34m.\u001b[0m\u001b[0mSaver\u001b[0m\u001b[0;34m(\u001b[0m\u001b[0;34m)\u001b[0m\u001b[0;34m.\u001b[0m\u001b[0mrestore\u001b[0m\u001b[0;34m(\u001b[0m\u001b[0msess\u001b[0m\u001b[0;34m,\u001b[0m \u001b[0msave_path\u001b[0m\u001b[0;34m+\u001b[0m\u001b[0;34m'-3'\u001b[0m\u001b[0;34m)\u001b[0m\u001b[0;34m\u001b[0m\u001b[0m\n\u001b[0m",
      "\u001b[0;32m~/miniconda3/envs/carnd-term1/lib/python3.5/site-packages/tensorflow/python/training/saver.py\u001b[0m in \u001b[0;36m__init__\u001b[0;34m(self, var_list, reshape, sharded, max_to_keep, keep_checkpoint_every_n_hours, name, restore_sequentially, saver_def, builder, defer_build, allow_empty, write_version, pad_step_number)\u001b[0m\n\u001b[1;32m    998\u001b[0m     \u001b[0mself\u001b[0m\u001b[0;34m.\u001b[0m\u001b[0m_pad_step_number\u001b[0m \u001b[0;34m=\u001b[0m \u001b[0mpad_step_number\u001b[0m\u001b[0;34m\u001b[0m\u001b[0m\n\u001b[1;32m    999\u001b[0m     \u001b[0;32mif\u001b[0m \u001b[0;32mnot\u001b[0m \u001b[0mdefer_build\u001b[0m\u001b[0;34m:\u001b[0m\u001b[0;34m\u001b[0m\u001b[0m\n\u001b[0;32m-> 1000\u001b[0;31m       \u001b[0mself\u001b[0m\u001b[0;34m.\u001b[0m\u001b[0mbuild\u001b[0m\u001b[0;34m(\u001b[0m\u001b[0;34m)\u001b[0m\u001b[0;34m\u001b[0m\u001b[0m\n\u001b[0m\u001b[1;32m   1001\u001b[0m     \u001b[0;32mif\u001b[0m \u001b[0mself\u001b[0m\u001b[0;34m.\u001b[0m\u001b[0msaver_def\u001b[0m\u001b[0;34m:\u001b[0m\u001b[0;34m\u001b[0m\u001b[0m\n\u001b[1;32m   1002\u001b[0m       \u001b[0mself\u001b[0m\u001b[0;34m.\u001b[0m\u001b[0m_check_saver_def\u001b[0m\u001b[0;34m(\u001b[0m\u001b[0;34m)\u001b[0m\u001b[0;34m\u001b[0m\u001b[0m\n",
      "\u001b[0;32m~/miniconda3/envs/carnd-term1/lib/python3.5/site-packages/tensorflow/python/training/saver.py\u001b[0m in \u001b[0;36mbuild\u001b[0;34m(self)\u001b[0m\n\u001b[1;32m   1019\u001b[0m           \u001b[0;32mreturn\u001b[0m\u001b[0;34m\u001b[0m\u001b[0m\n\u001b[1;32m   1020\u001b[0m         \u001b[0;32melse\u001b[0m\u001b[0;34m:\u001b[0m\u001b[0;34m\u001b[0m\u001b[0m\n\u001b[0;32m-> 1021\u001b[0;31m           \u001b[0;32mraise\u001b[0m \u001b[0mValueError\u001b[0m\u001b[0;34m(\u001b[0m\u001b[0;34m\"No variables to save\"\u001b[0m\u001b[0;34m)\u001b[0m\u001b[0;34m\u001b[0m\u001b[0m\n\u001b[0m\u001b[1;32m   1022\u001b[0m       \u001b[0mself\u001b[0m\u001b[0;34m.\u001b[0m\u001b[0m_is_empty\u001b[0m \u001b[0;34m=\u001b[0m \u001b[0;32mFalse\u001b[0m\u001b[0;34m\u001b[0m\u001b[0m\n\u001b[1;32m   1023\u001b[0m       self.saver_def = self._builder.build(\n",
      "\u001b[0;31mValueError\u001b[0m: No variables to save"
     ]
    }
   ],
   "source": [
    "learning_rate = 0.001\n",
    "training_epochs = 4\n",
    "batch_size = 128\n",
    "display_step = 50\n",
    "\n",
    "n_input = 28*28*1\n",
    "n_classes = 10\n",
    "\n",
    "n_hidden_layer_1 = 256\n",
    "n_hidden_layer_2 = 32\n",
    "\n",
    "weights = {'hidden_layer_1': tf.Variable(tf.random_normal([n_input, n_hidden_layer_1])),\n",
    "           'hidden_layer_2': tf.Variable(tf.random_normal([n_hidden_layer_1, n_hidden_layer_2])),\n",
    "           'out': tf.Variable(tf.random_normal([n_hidden_layer_2, n_classes]))}\n",
    "biases = {'hidden_layer_1': tf.Variable(tf.random_normal([n_hidden_layer_1])),\n",
    "          'hidden_layer_2': tf.Variable(tf.random_normal([n_hidden_layer_2])),\n",
    "         'out': tf.Variable(tf.random_normal([n_classes]))}\n",
    "\n",
<<<<<<< HEAD
    "x = tf.placeholder('float', [None, 28, 28, 1])\n",
    "y = tf.placeholder('float', [None, 10])\n",
    "\n",
    "x_flat = tf.reshape(x, [-1, n_input])\n",
    "keep_prob = tf.placeholder(tf.float32)\n",
    "\n",
    "# \n",
    "layer_1 = tf.matmul(x_flat, weights['hidden_layer']) + biases['hidden_layer']\n",
    "layer_1 = tf.nn.relu(layer_1)\n",
    "layer_1 = tf.nn.dropout(layer_1, keep_prob=keep_prob)\n",
    "\n",
    "logits = tf.matmul(layer_1, weights['out']) + biases['out']\n",
    "\n",
    "cost = tf.reduce_mean(tf.nn.softmax_cross_entropy_with_logits(labels=y, logits=logits))\n",
    "optimizer = tf.train.GradientDescentOptimizer(learning_rate=learning_rate).minimize(cost)\n",
    "    \n",
    "save_path = './tf1.ckpt'\n",
    "\n",
    "tf.reset_default_graph()\n",
    "\n",
    "with tf.Session() as sess:\n",
    "    tf.train.Saver().restore(sess, save_path+'-3')"
||||||| merged common ancestors
    "x = tf.placeholder([None, 28, 28, 1])\n",
    "y = tf.placeholder([None, 10])"
=======
    "x = tf.placeholder('float', [None, 28, 28, 1])\n",
    "y = tf.placeholder('float', [None, 10])\n",
    "\n",
    "x_flat = tf.reshape(x, [-1, n_input])\n",
    "keep_prob_1 = tf.placeholder(tf.float32)\n",
    "keep_prob_2 = tf.placeholder(tf.float32)\n",
    "\n",
    "# \n",
    "layer_1 = tf.matmul(x_flat, weights['hidden_layer_1']) + biases['hidden_layer_1']\n",
    "layer_1 = tf.nn.relu(layer_1)\n",
    "layer_1 = tf.nn.dropout(layer_1, keep_prob=keep_prob_1)\n",
    "\n",
    "layer_2 = tf.matmul(layer_1, weights['hidden_layer_2']) + biases['hidden_layer_2']\n",
    "layer_2 = tf.nn.relu(layer_2)\n",
    "layer_2 = tf.nn.dropout(layer_2, keep_prob=keep_prob_2)\n",
    "\n",
    "logits = tf.matmul(layer_2, weights['out']) + biases['out']\n",
    "\n",
    "cost = tf.reduce_mean(tf.nn.softmax_cross_entropy_with_logits(labels=y, logits=logits))\n",
    "optimizer = tf.train.AdagradOptimizer(learning_rate=learning_rate).minimize(cost)\n",
    "\n",
    "#cost = tf.reduce_mean(tf.nn.softmax_cross_entropy_with_logits(labels=y, logits=logits))\n",
    "#optimizer = tf.train.GradientDescentOptimizer(learning_rate=learning_rate).minimize(cost)"
   ]
  },
  {
   "cell_type": "code",
   "execution_count": null,
   "metadata": {
    "collapsed": true
   },
   "outputs": [],
   "source": [
    "init = tf.global_variables_initializer()\n",
    "\n",
    "with tf.Session() as sess:\n",
    "    sess.run(init)\n",
    "    \n",
    "    for epoch in range(training_epochs):\n",
    "        n_batches = int(np.ceil(mnist.train.num_examples/batch_size))\n",
    "        \n",
    "        for i in range(n_batches):\n",
    "            batch_x, batch_y = mnist.train.next_batch(batch_size)\n",
    "            sess.run(optimizer, feed_dict={x: batch_x, y: batch_y, keep_prob_: 0.5})"
>>>>>>> 22d8c0c79d50e3f223f1e571962eab3e993fde93
   ]
  },
  {
   "cell_type": "code",
   "execution_count": 16,
   "metadata": {},
   "outputs": [
    {
     "data": {
      "text/plain": [
       "'./tf1.ckpt-1'"
      ]
     },
     "execution_count": 16,
     "metadata": {},
     "output_type": "execute_result"
    }
   ],
   "source": [
    "save_path+'-1'"
   ]
  },
  {
   "cell_type": "code",
   "execution_count": null,
   "metadata": {
    "collapsed": true
   },
   "outputs": [],
   "source": []
  }
 ],
 "metadata": {
  "kernelspec": {
   "display_name": "Python 3",
   "language": "python",
   "name": "python3"
  },
  "language_info": {
   "codemirror_mode": {
    "name": "ipython",
    "version": 3
   },
   "file_extension": ".py",
   "mimetype": "text/x-python",
   "name": "python",
   "nbconvert_exporter": "python",
   "pygments_lexer": "ipython3",
   "version": "3.5.2"
  },
  "widgets": {
   "state": {},
   "version": "1.1.2"
  }
 },
 "nbformat": 4,
 "nbformat_minor": 2
}
