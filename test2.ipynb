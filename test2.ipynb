{
 "cells": [
  {
   "cell_type": "code",
   "execution_count": 3,
   "metadata": {},
   "outputs": [
    {
     "name": "stdout",
     "output_type": "stream",
     "text": [
      "Extracting ./train-images-idx3-ubyte.gz\n",
      "Extracting ./train-labels-idx1-ubyte.gz\n",
      "Extracting ./t10k-images-idx3-ubyte.gz\n",
      "Extracting ./t10k-labels-idx1-ubyte.gz\n"
     ]
    }
   ],
   "source": [
    "# import data\n",
    "from tensorflow.examples.tutorials.mnist import input_data\n",
    "mnist = input_data.read_data_sets('.', one_hot=True, reshape=False)"
   ]
  },
  {
   "cell_type": "code",
   "execution_count": 9,
   "metadata": {},
   "outputs": [],
   "source": [
    "import tensorflow as tf\n",
    "import numpy as np\n",
    "\n",
    "learning_rate = 0.001\n",
    "training_epochs = 4\n",
    "batch_size = 128\n",
    "\n",
    "n_input = 28*28*1\n",
    "n_classes = 10\n",
    "\n",
    "n_hidden_layer_1 = 256\n",
    "n_hidden_layer_2 = 32\n",
    "\n",
    "weights = {'hidden_layer_1': tf.Variable(tf.random_normal([n_input, n_hidden_layer_1])), \n",
    "          'hidden_layer_2': tf.Variable(tf.random_normal([n_hidden_layer_1, n_hidden_layer_2])),\n",
    "          'out': tf.Variable(tf.random_normal([n_hidden_layer_2, n_classes]))}\n",
    "biases = {'hidden_layer_1': tf.Variable(tf.random_normal([n_hidden_layer_1])),\n",
    "         'hidden_layer_2': tf.Variable(tf.random_normal([n_hidden_layer_2])),\n",
    "         'out': tf.Variable(tf.random_normal([n_classes]))}\n",
    "\n",
    "x = tf.placeholder('float', [None, 28, 28, 1])\n",
    "y = tf.placeholder('float', [None, n_classes])\n",
    "x_flat = tf.reshape(x, [-1, n_input])\n",
    "\n",
    "\n",
    "keep_prob_1 = tf.placeholder(tf.float32)\n",
    "keep_prob_2 = tf.placeholder(tf.float32)\n",
    "\n",
    "layer_1 = tf.matmul(x_flat, weights['hidden_layer_1'])+biases['hidden_layer_1']\n",
    "layer_1 = tf.nn.relu(layer_1)\n",
    "layer_1 = tf.nn.dropout(layer_1, keep_prob_1)\n",
    "\n",
    "layer_2 = tf.matmul(layer_1, weights['hidden_layer_2'])+biases['hidden_layer_2']\n",
    "layer_2 = tf.nn.relu(layer_2)\n",
    "layer_2 = tf.nn.dropout(layer_2, keep_prob_2)\n",
    "\n",
    "logits = tf.matmul(layer_2, weights['out'])+biases['out']\n",
    "cost = tf.reduce_mean(tf.nn.softmax_cross_entropy_with_logits(labels=y, logits=logits))\n",
    "optimizer = tf.train.AdamOptimizer(learning_rate=learning_rate).minimize(cost)"
   ]
  },
  {
   "cell_type": "code",
   "execution_count": null,
   "metadata": {
    "collapsed": true
   },
   "outputs": [],
   "source": [
    "init = tf."
   ]
  }
 ],
 "metadata": {
  "kernelspec": {
   "display_name": "Python 3",
   "language": "python",
   "name": "python3"
  },
  "language_info": {
   "codemirror_mode": {
    "name": "ipython",
    "version": 3
   },
   "file_extension": ".py",
   "mimetype": "text/x-python",
   "name": "python",
   "nbconvert_exporter": "python",
   "pygments_lexer": "ipython3",
   "version": "3.5.2"
  },
  "widgets": {
   "state": {},
   "version": "1.1.2"
  }
 },
 "nbformat": 4,
 "nbformat_minor": 2
}
